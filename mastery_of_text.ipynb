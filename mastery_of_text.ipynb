{
  "cells": [
    {
      "cell_type": "code",
      "execution_count": null,
      "metadata": {},
      "outputs": [],
      "source": [
        "import urllib.request\n",
        "\n",
        "URL = \"https://www.gutenberg.org/cache/epub/10/pg10.txt\"\n",
        "\n",
        "def fetch_text(url: str) -> str:\n",
        "    \"\"\"Download the text at `url` and return it as a decoded Python string.\n",
        "    Uses only urllib (no external programs). Includes a User-Agent header for reliability.\n",
        "    \"\"\"\n",
        "    req = urllib.request.Request(url, headers={\"User-Agent\": \"Mozilla/5.0\"})\n",
        "    with urllib.request.urlopen(req) as resp:\n",
        "        raw = resp.read()\n",
        "    # THIS IS TO Decode safely\n",
        "    try:\n",
        "        return raw.decode(\"utf-8\")\n",
        "    except UnicodeDecodeError:\n",
        "        return raw.decode(\"latin-1\")\n",
        "\n",
        "pg10 = fetch_text(URL)\n",
        "print(\"Downloaded characters:\", len(pg10))\n",
        "print(\"Preview:\", pg10[:200].replace(\"\\n\", \"\\\\n\"))"
      ]
    },
    {
      "cell_type": "code",
      "execution_count": null,
      "metadata": {},
      "outputs": [],
      "source": [
        "def iter_words(s: str):\n",
        "    \"\"\"Yield words as contiguous alphabetic sequences (A-Z or a-z).\"\"\"\n",
        "    word_chars = []\n",
        "    for ch in s:\n",
        "        if ch.isalpha():\n",
        "            word_chars.append(ch)\n",
        "        else:\n",
        "            if word_chars:\n",
        "                yield ''.join(word_chars)\n",
        "                word_chars = []\n",
        "    if word_chars:\n",
        "        yield ''.join(word_chars)\n",
        "\n",
        "# THIS IS THE Lowercased list of words derived from pg10\n",
        "words_lower = [w.lower() for w in iter_words(pg10)]\n",
        "print(\"Sample words:\", words_lower[:20])"
      ]
    },
    {
      "cell_type": "code",
      "execution_count": null,
      "metadata": {},
      "outputs": [],
      "source": [
        "line_count = len(pg10.splitlines())\n",
        "print(\"Line count:\", line_count)"
      ]
    },
    {
      "cell_type": "code",
      "execution_count": null,
      "metadata": {},
      "outputs": [],
      "source": [
        "word_count = len(words_lower)\n",
        "print(\"Word count (alpha sequences):\", word_count)"
      ]
    },
    {
      "cell_type": "code",
      "execution_count": null,
      "metadata": {},
      "outputs": [],
      "source": [
        "apostle_count = sum(1 for w in words_lower if w == \"apostle\")\n",
        "print('Occurrences of \"apostle\" (case-insensitive):', apostle_count)"
      ]
    },
    {
      "cell_type": "code",
      "execution_count": null,
      "metadata": {},
      "outputs": [],
      "source": [
        "freq = {}\n",
        "for w in words_lower:\n",
        "    freq[w] = freq.get(w, 0) + 1\n",
        "\n",
        "most_common_word = None\n",
        "most_common_count = 0\n",
        "for w, c in freq.items():\n",
        "    if c > most_common_count:\n",
        "        most_common_word, most_common_count = w, c\n",
        "\n",
        "print(\"Most common word (case-insensitive):\", most_common_word)\n",
        "print(\"Its count:\", most_common_count)"
      ]
    },
    {
      "cell_type": "code",
      "execution_count": null,
      "metadata": {},
      "outputs": [],
      "source": [
        "print(\"\"\"\n",
        "ANSWERS\n",
        "-------\n",
        "Lines: {line_count}\n",
        "Words (alpha sequences): {word_count}\n",
        "\\\"apostle\\\" count (case-insensitive): {apostle_count}\n",
        "Most common word (case-insensitive): {most_common_word} ({most_common_count} times)\n",
        "\"\"\")"
      ]
    }
  ],
  "metadata": {
    "kernelspec": {
      "display_name": "Python 3",
      "language": "python",
      "name": "python3"
    },
    "language_info": {
      "codemirror_mode": {
        "name": "ipython",
        "version": 3
      },
      "file_extension": ".py",
      "mimetype": "text/x-python",
      "name": "python",
      "nbconvert_exporter": "python",
      "pygments_lexer": "ipython3",
      "version": "3.x"
    }
  },
  "nbformat": 4,
  "nbformat_minor": 5
}

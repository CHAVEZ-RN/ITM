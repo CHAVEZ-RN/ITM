{
 "cells": [
  {
   "cell_type": "code",
   "execution_count": 1,
   "id": "d2d55c0b-24a6-457a-9feb-8e84c8d7302f",
   "metadata": {},
   "outputs": [],
   "source": [
    "import numpy as np\n",
    "import pandas as pd\n",
    "import matplotlib.pyplot as plt"
   ]
  },
  {
   "cell_type": "code",
   "execution_count": 3,
   "id": "107ace9e-0be7-40ce-bb42-550cfd7fcec8",
   "metadata": {},
   "outputs": [],
   "source": [
    "invoice = pd.read_csv(r'C:\\Users\\renji_tp7vslp\\Downloads\\fct_invoice (1).csv')\n",
    "customer = pd.read_json(r\"C:\\Users\\renji_tp7vslp\\Downloads\\dim_customer (1).json\")\n"
   ]
  },
  {
   "cell_type": "code",
   "execution_count": 5,
   "id": "8dd191a4-3f69-449e-b501-87c1ec5bf0fc",
   "metadata": {},
   "outputs": [
    {
     "name": "stdout",
     "output_type": "stream",
     "text": [
      "5191\n"
     ]
    }
   ],
   "source": [
    "# 1 How many unique customers are in the dataset?\n",
    "\n",
    "unique_customer = customer['id'].nunique()\n",
    "print(unique_customer)"
   ]
  },
  {
   "cell_type": "code",
   "execution_count": 7,
   "id": "b222be14-d2d7-4f3a-8296-a8009d1b0b0b",
   "metadata": {},
   "outputs": [
    {
     "name": "stdout",
     "output_type": "stream",
     "text": [
      "8\n",
      "['Clothing' 'Shoes' 'Books' 'Cosmetics' 'Food & Beverage' 'Toys'\n",
      " 'Technology' 'Souvenir']\n"
     ]
    }
   ],
   "source": [
    "#2 Easy: What are the different categories of products available? How many unique categories are there?\n",
    "unique_categories = invoice[ 'category'] .unique ()\n",
    "count_categories = invoice['category'].nunique ()\n",
    "print (count_categories)\n",
    "print(unique_categories)"
   ]
  },
  {
   "cell_type": "code",
   "execution_count": 11,
   "id": "406b851d-5bae-4b36-995f-00d66ec8dd0f",
   "metadata": {},
   "outputs": [
    {
     "name": "stdout",
     "output_type": "stream",
     "text": [
      "payment_method\n",
      "Cash           44447\n",
      "Credit Card    34931\n",
      "Debit Card     20079\n",
      "Name: count, dtype: int64\n"
     ]
    }
   ],
   "source": [
    "#3 Easy: Which payment method is the most popular? How many times was it used?\n",
    "popular_payment_method = invoice ['payment_method'].value_counts ()\n",
    "print (popular_payment_method)"
   ]
  },
  {
   "cell_type": "code",
   "execution_count": 17,
   "id": "be410298-3080-4ad8-8a87-5e01b01251a9",
   "metadata": {},
   "outputs": [
    {
     "name": "stdout",
     "output_type": "stream",
     "text": [
      "     category         sales\n",
      "1    Clothing  1.139968e+08\n",
      "4       Shoes  6.655345e+07\n",
      "6  Technology  5.786235e+07\n"
     ]
    }
   ],
   "source": [
    "#1 Medium: What are the three most popular categories, by total sales?\n",
    "\n",
    "invoice['sales'] = invoice['price']*invoice['quantity']\n",
    "category_sales = invoice.groupby ('category' )['sales'].sum().reset_index()\n",
    "popular_category = category_sales.sort_values('sales', ascending=False)\n",
    "print(popular_category.head (3))"
   ]
  },
  {
   "cell_type": "code",
   "execution_count": 27,
   "id": "b70f0d15-6c60-4c86-a2ba-b07ec5415900",
   "metadata": {},
   "outputs": [
    {
     "name": "stdout",
     "output_type": "stream",
     "text": [
      "82039768.15\n"
     ]
    }
   ],
   "source": [
    "#2 Medium: What are the total sales attributed to customers over the age of 45?\n",
    "\n",
    "merged_df = pd.merge(invoice, customer, left_on='customer_id', right_on='id')\n",
    "over_45_sales = merged_df[merged_df['age'] > 45]\n",
    "over_45_total_sales = over_45_sales['sales'].sum()\n",
    "print(over_45_total_sales)"
   ]
  },
  {
   "cell_type": "code",
   "execution_count": 53,
   "id": "b5c50d42-6800-4ec2-b764-be4893031d92",
   "metadata": {},
   "outputs": [
    {
     "data": {
      "image/png": "[encoded data removed]",
      "text/plain": [
       "<Figure size 640x480 with 1 Axes>"
      ]
     },
     "metadata": {},
     "output_type": "display_data"
    }
   ],
   "source": [
    "import pandas as pd\n",
    "import matplotlib.pyplot as plt\n",
    "\n",
    "]invoice.index = pd.to_datetime(invoice.index, format='%d/%m/%Y', errors='coerce')\n",
    "\n",
    "# Drop any rows with NaT in the index\n",
    "invoice = invoice[invoice.index.notna()]\n",
    "\n",
    "# Resample sales data by month\n",
    "monthly_sales = invoice['sales'].resample('M').sum()\n",
    "\n",
    "# Plot the monthly sales trend\n",
    "plt.figure()\n",
    "plt.plot(monthly_sales.index, monthly_sales.values, marker='d', color='g', linestyle='-') \n",
    "plt.title('Monthly Sales Trend')\n",
    "plt.xlabel('Date')\n",
    "plt.ylabel('Sales Amount')\n",
    "plt.xticks(rotation=45)\n",
    "plt.grid(True)\n",
    "plt.tight_layout()\n",
    "plt.show()\n",
    "\n"
   ]
  },
  {
   "cell_type": "code",
   "execution_count": 43,
   "id": "e8354b2d-2be2-49ee-9929-4e709db6bcfc",
   "metadata": {},
   "outputs": [
    {
     "name": "stdout",
     "output_type": "stream",
     "text": [
      "Pivot Table - Sales Breakdown by Category and Decade Age Range:\n",
      "decade_age_range       10-19        20-29        30-39        40-49  \\\n",
      "category                                                              \n",
      "Books               12801.75     79461.75     84143.10     87203.40   \n",
      "Clothing          1927413.84  10250732.80  11354126.96  11215189.92   \n",
      "Cosmetics          109619.36    605915.32    723544.70    665034.96   \n",
      "Food & Beverage     13582.31     73491.96     87246.86     89553.29   \n",
      "Shoes              993281.35   5924878.24   7200839.66   7025590.02   \n",
      "Souvenir            12375.15     54943.32     64092.72     66391.80   \n",
      "Technology        1129800.00   5261550.00   6159300.00   5954550.00   \n",
      "Toys                60426.24    385100.80    420582.40    390906.88   \n",
      "\n",
      "decade_age_range        50-59        60-69       70-79       80-89  90-99  \n",
      "category                                                                   \n",
      "Books                74962.20     80476.80    54827.85    26664.00    0.0  \n",
      "Clothing          10321851.76  10660642.08  7769371.28  4493698.00    0.0  \n",
      "Cosmetics           587780.96    649990.76   419082.62   254531.60    0.0  \n",
      "Food & Beverage      72425.04     80976.09    55050.98    31332.93    0.0  \n",
      "Shoes              5852857.84   5978893.54  4480269.05  2628744.60    0.0  \n",
      "Souvenir             54943.32     55025.43    38673.81    23718.06    0.0  \n",
      "Technology         4435200.00   5471550.00  3638250.00  1946700.00    0.0  \n",
      "Toys                345067.52    363955.20   273244.16   153932.80    0.0  \n"
     ]
    }
   ],
   "source": [
    "#1 Hard: Create a pivot table showing the breakdown of sales across these dimensions, in this order: category, decade age range (e.g., 10-19, 20-29, and so forth).\n",
    "\n",
    "merged_df['decade_age_range'] = pd.cut(merged_df['age'], bins=[10, 19, 29, 39, 49, 59, 69, 79, 89, 99], labels=['10-19', '20-29', '30-39', '40-49', '50-59', '60-69', '70-79', '80-89', '90-99'])\n",
    "pivot_table = pd.pivot_table(merged_df, index='category', columns='decade_age_range', values='sales', aggfunc='sum', fill_value=0)\n",
    "print(\"Pivot Table - Sales Breakdown by Category and Decade Age Range:\")\n",
    "print(pivot_table)"
   ]
  },
  {
   "cell_type": "code",
   "execution_count": null,
   "id": "fdb6c911-c651-42c1-ad36-df248b414673",
   "metadata": {},
   "outputs": [],
   "source": []
  }
 ],
 "metadata": {
  "kernelspec": {
   "display_name": "Python 3 (ipykernel)",
   "language": "python",
   "name": "python3"
  },
  "language_info": {
   "codemirror_mode": {
    "name": "ipython",
    "version": 3
   },
   "file_extension": ".py",
   "mimetype": "text/x-python",
   "name": "python",
   "nbconvert_exporter": "python",
   "pygments_lexer": "ipython3",
   "version": "3.11.7"
  }
 },
 "nbformat": 4,
 "nbformat_minor": 5
}
